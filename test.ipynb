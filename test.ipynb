{
 "cells": [
  {
   "cell_type": "code",
   "execution_count": 4,
   "metadata": {},
   "outputs": [],
   "source": [
    "from graph_reader import Graph\n",
    "from utils import *\n",
    "import numpy as np\n",
    "import pandas as pd\n",
    "from scipy.special import comb\n",
    "import random\n",
    "import time\n",
    "import os"
   ]
  },
  {
   "cell_type": "code",
   "execution_count": 2,
   "metadata": {},
   "outputs": [],
   "source": [
    "A = np.array([[1, 0, 1, 0, 2, 4], \n",
    "              [0, 1, 2, 4, 6, 12],\n",
    "              [0, 0, 1, 0, 4, 12],\n",
    "              [0, 0, 0, 1, 1, 3],\n",
    "              [0, 0, 0, 0, 1, 6],\n",
    "              [0, 0, 0, 0, 0, 1]])\n",
    "\n",
    "def threepathsampler(G, k):\n",
    "    count = [0,0,0,0,0,0]\n",
    "    C_hat = [0,0,0,0,0,0]\n",
    "    sample = random.choices(G.Edges, weights= G.tauList, k = k)\n",
    "    for u,v in sample:\n",
    "        u0 = sampleNbr(G.adj[u], v)\n",
    "        v0 = sampleNbr(G.adj[v], u)\n",
    "        S_l = (u0, u, v, v0)\n",
    "        if u0==v0 or u0==None or v0==None:\n",
    "            continue\n",
    "        motif = determineMotifType(G,S_l)\n",
    "        count[motif]+=1\n",
    "    for i in range(1,6): # from 2-1, to 6-1\n",
    "        C_hat[i] = (count[i]/k) * (G.W/A[1,i])\n",
    "    N1 = sum([comb(G.getDegree(v),3) for v in G.adj.keys()])\n",
    "    C_hat[0] = N1 - C_hat[2] - 2*C_hat[4] - 4*C_hat[5]\n",
    "    return C_hat\n",
    "\n",
    "def centeredSampler(G, k):\n",
    "    count = [0,0,0,0,0,0]\n",
    "    C_hat = [0,0,0,0,0,0]\n",
    "    successful_samples = 0\n",
    "    sample = random.choices(G.Edges, weights=G.lambdaList, k=k)\n",
    "    for u, v in sample:\n",
    "        u0 = sampleHigherDegNbr(G, G.adj[u], v)\n",
    "        v0 = sampleHigherDegNbr(G, G.adj[v], u)\n",
    "        S_l = (u0, u, v, v0)\n",
    "        if u0==None or v0==None or (not G.isEdge(u0,v0)):\n",
    "            continue\n",
    "        motif = determineMotifType(G,S_l)\n",
    "        count[motif] += 1\n",
    "        successful_samples+=1\n",
    "\n",
    "    for i in range(3, 6):\n",
    "        C_hat[i] = (count[i]/k) * (G.L/A[3,i])\n",
    "    return C_hat\n",
    "\n",
    "def computeFreq(G, k=200000):\n",
    "    C_hat1 = threepathsampler(G, k)\n",
    "    C_hat2 = centeredSampler(G, k)\n",
    "    print(\"1 algo: \", [f\"{num:.2e}\" for num in C_hat1])\n",
    "    print(\"2 algo: \", [f\"{num:.2e}\" for num in C_hat2])\n",
    "    C_hat = C_hat1[:3]+C_hat2[3:]\n",
    "    return C_hat"
   ]
  },
  {
   "cell_type": "code",
   "execution_count": 39,
   "metadata": {},
   "outputs": [
    {
     "name": "stdout",
     "output_type": "stream",
     "text": [
      "Amazon0312.txt\n",
      "Amazon0505.txt\n",
      "Amazon0601.txt\n",
      "as-skitter.txt\n",
      "cit-Patents.txt\n",
      "web-BerkStan.txt\n",
      "web-Google.txt\n",
      "WikiTalk.txt\n"
     ]
    }
   ],
   "source": [
    "folder =  os.path.join(os.getcwd(), 'data')\n",
    "final_df = pd.DataFrame(columns =['Graph', 'countV', 'countE', 'W', 'L', 'W/L', '3star', '3path', 'tailed_triangle', '4cycle', 'chordal_4cycle', '4clique'])\n",
    "for file in os.listdir(folder):    \n",
    "    path = os.path.join(folder, file)\n",
    "    \n",
    "    start_time = time.time()\n",
    "    B = Graph(path)\n",
    "    print(f'Graph {file} reading time: {time.time()-start_time:.0f} s')\n",
    "    print(f\"Number of edges {len(B.Edges):.2e}\", f\"Number of nodes {len(B.V):.2e}\", f\"W is {B.W:.2e}, L is {B.L:.2e}, W/L is {B.W/B.L:.1f}\")\n",
    "\n",
    "    start_time = time.time()\n",
    "    C_hat = computeFreq(B, k=200000)\n",
    "    print([\"{:.2e}\".format(int(num)) for num in C_hat])\n",
    "    print('Exe time: ', round(time.time()-start_time, 2), 's')\n",
    "\n",
    "    record = {'Graph': file, 'countV': len(B.V), 'countE':len(B.Edges), 'W': B.W , 'L': B.L, \n",
    "              'W/L': B.W/B.L,'3star': C_hat[0], '3path': C_hat[1], 'tailed_triangle': C_hat[2],\n",
    "              '4cycle': C_hat[3], 'chordal_4cycle': C_hat[4], '4clique': C_hat[5]}\n",
    "    final_df = final_df.append(record, ignore_index=True)\n",
    "final_df.to_csv('results', index=False)"
   ]
  },
  {
   "cell_type": "code",
   "execution_count": null,
   "metadata": {},
   "outputs": [],
   "source": [
    "path = 'data/web-BerkStan.txt'\n",
    "\n",
    "start_time = time.time()\n",
    "B = Graph(path)\n",
    "print(f'Graph web-BerkStan.txt reading time: {time.time()-start_time:.0f} s')\n",
    "print(f\"Number of edges {len(B.Edges):.2e}\", f\"Number of nodes {len(B.adj.keys()):.2e}\", f\"W is {B.W:.2e}, L is {B.L:.2e}, W/L is {B.W/B.L:.1f}\")\n",
    "\n",
    "start_time = time.time()\n",
    "C_hat = computeFreq(B, k=200000)\n",
    "print([\"{:.2e}\".format(int(num)) for num in C_hat])\n",
    "print('Exe time: ', round(time.time()-start_time, 2), 's')"
   ]
  },
  {
   "cell_type": "code",
   "execution_count": 5,
   "metadata": {},
   "outputs": [],
   "source": [
    "pd.set_option(\"precision\", 2)\n",
    "data = pd.read_csv('results.csv')"
   ]
  },
  {
   "cell_type": "code",
   "execution_count": 8,
   "metadata": {},
   "outputs": [],
   "source": [
    "data = pd.read_csv('ca-coauthors.csv')"
   ]
  },
  {
   "cell_type": "code",
   "execution_count": 9,
   "metadata": {},
   "outputs": [
    {
     "data": {
      "text/html": [
       "<div>\n",
       "<style scoped>\n",
       "    .dataframe tbody tr th:only-of-type {\n",
       "        vertical-align: middle;\n",
       "    }\n",
       "\n",
       "    .dataframe tbody tr th {\n",
       "        vertical-align: top;\n",
       "    }\n",
       "\n",
       "    .dataframe thead th {\n",
       "        text-align: right;\n",
       "    }\n",
       "</style>\n",
       "<table border=\"1\" class=\"dataframe\">\n",
       "  <thead>\n",
       "    <tr style=\"text-align: right;\">\n",
       "      <th></th>\n",
       "      <th>Graph</th>\n",
       "      <th>ReadingTime</th>\n",
       "      <th>ExeTime</th>\n",
       "      <th>countV</th>\n",
       "      <th>countE</th>\n",
       "      <th>W</th>\n",
       "      <th>L</th>\n",
       "      <th>W/L</th>\n",
       "      <th>3star</th>\n",
       "      <th>3path</th>\n",
       "      <th>tailed_triangle</th>\n",
       "      <th>4cycle</th>\n",
       "      <th>chordal_4cycle</th>\n",
       "      <th>4clique</th>\n",
       "    </tr>\n",
       "  </thead>\n",
       "  <tbody>\n",
       "    <tr>\n",
       "      <th>0</th>\n",
       "      <td>ca-coauthors-dblp.mtx</td>\n",
       "      <td>135.44</td>\n",
       "      <td>22.89</td>\n",
       "      <td>540486</td>\n",
       "      <td>15245729</td>\n",
       "      <td>381382721695</td>\n",
       "      <td>56465879655</td>\n",
       "      <td>6.75</td>\n",
       "      <td>2.70e+10</td>\n",
       "      <td>4.17e+10</td>\n",
       "      <td>6.69e+10</td>\n",
       "      <td>3.11e+07</td>\n",
       "      <td>3.49e+09</td>\n",
       "      <td>1.53e+10</td>\n",
       "    </tr>\n",
       "  </tbody>\n",
       "</table>\n",
       "</div>"
      ],
      "text/plain": [
       "                   Graph  ReadingTime  ExeTime  countV    countE  \\\n",
       "0  ca-coauthors-dblp.mtx       135.44    22.89  540486  15245729   \n",
       "\n",
       "              W            L   W/L     3star     3path  tailed_triangle  \\\n",
       "0  381382721695  56465879655  6.75  2.70e+10  4.17e+10         6.69e+10   \n",
       "\n",
       "     4cycle  chordal_4cycle   4clique  \n",
       "0  3.11e+07        3.49e+09  1.53e+10  "
      ]
     },
     "execution_count": 9,
     "metadata": {},
     "output_type": "execute_result"
    }
   ],
   "source": [
    "data"
   ]
  },
  {
   "cell_type": "code",
   "execution_count": 10,
   "metadata": {},
   "outputs": [],
   "source": [
    "data.iloc[:,3:7] = data.iloc[:,3:7].apply(lambda x: x.apply('{:.2e}'.format))"
   ]
  },
  {
   "cell_type": "code",
   "execution_count": 11,
   "metadata": {},
   "outputs": [
    {
     "data": {
      "text/html": [
       "<div>\n",
       "<style scoped>\n",
       "    .dataframe tbody tr th:only-of-type {\n",
       "        vertical-align: middle;\n",
       "    }\n",
       "\n",
       "    .dataframe tbody tr th {\n",
       "        vertical-align: top;\n",
       "    }\n",
       "\n",
       "    .dataframe thead th {\n",
       "        text-align: right;\n",
       "    }\n",
       "</style>\n",
       "<table border=\"1\" class=\"dataframe\">\n",
       "  <thead>\n",
       "    <tr style=\"text-align: right;\">\n",
       "      <th></th>\n",
       "      <th>Graph</th>\n",
       "      <th>ReadingTime</th>\n",
       "      <th>ExeTime</th>\n",
       "      <th>countV</th>\n",
       "      <th>countE</th>\n",
       "      <th>W</th>\n",
       "      <th>L</th>\n",
       "      <th>W/L</th>\n",
       "      <th>3star</th>\n",
       "      <th>3path</th>\n",
       "      <th>tailed_triangle</th>\n",
       "      <th>4cycle</th>\n",
       "      <th>chordal_4cycle</th>\n",
       "      <th>4clique</th>\n",
       "    </tr>\n",
       "  </thead>\n",
       "  <tbody>\n",
       "    <tr>\n",
       "      <th>0</th>\n",
       "      <td>ca-coauthors-dblp.mtx</td>\n",
       "      <td>135.44</td>\n",
       "      <td>22.89</td>\n",
       "      <td>5.40e+05</td>\n",
       "      <td>1.52e+07</td>\n",
       "      <td>3.81e+11</td>\n",
       "      <td>5.65e+10</td>\n",
       "      <td>6.75</td>\n",
       "      <td>2.70e+10</td>\n",
       "      <td>4.17e+10</td>\n",
       "      <td>6.69e+10</td>\n",
       "      <td>3.11e+07</td>\n",
       "      <td>3.49e+09</td>\n",
       "      <td>1.53e+10</td>\n",
       "    </tr>\n",
       "  </tbody>\n",
       "</table>\n",
       "</div>"
      ],
      "text/plain": [
       "                   Graph  ReadingTime  ExeTime    countV    countE         W  \\\n",
       "0  ca-coauthors-dblp.mtx       135.44    22.89  5.40e+05  1.52e+07  3.81e+11   \n",
       "\n",
       "          L   W/L     3star     3path  tailed_triangle    4cycle  \\\n",
       "0  5.65e+10  6.75  2.70e+10  4.17e+10         6.69e+10  3.11e+07   \n",
       "\n",
       "   chordal_4cycle   4clique  \n",
       "0        3.49e+09  1.53e+10  "
      ]
     },
     "execution_count": 11,
     "metadata": {},
     "output_type": "execute_result"
    }
   ],
   "source": [
    "data"
   ]
  }
 ],
 "metadata": {
  "interpreter": {
   "hash": "404a2977554e8d62627daa7cd482eb82924fc17fc4ce75060c3f11631a5f549e"
  },
  "kernelspec": {
   "display_name": "Python 3.7.11 64-bit ('base': conda)",
   "language": "python",
   "name": "python3"
  },
  "language_info": {
   "codemirror_mode": {
    "name": "ipython",
    "version": 3
   },
   "file_extension": ".py",
   "mimetype": "text/x-python",
   "name": "python",
   "nbconvert_exporter": "python",
   "pygments_lexer": "ipython3",
   "version": "3.7.11"
  },
  "orig_nbformat": 4
 },
 "nbformat": 4,
 "nbformat_minor": 2
}
